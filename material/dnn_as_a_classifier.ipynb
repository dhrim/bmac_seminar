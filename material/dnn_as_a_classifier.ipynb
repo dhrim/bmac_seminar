{
  "nbformat": 4,
  "nbformat_minor": 0,
  "metadata": {
    "colab": {
      "name": "dnn_as_a_classifier.ipynb",
      "version": "0.3.2",
      "provenance": [],
      "toc_visible": true
    },
    "kernelspec": {
      "name": "python3",
      "display_name": "Python 3"
    }
  },
  "cells": [
    {
      "cell_type": "markdown",
      "metadata": {
        "id": "bCKgjM9-xygH",
        "colab_type": "text"
      },
      "source": [
        "# 분류기로서의 DNN"
      ]
    },
    {
      "cell_type": "code",
      "metadata": {
        "id": "etOyOaq6xxHv",
        "colab_type": "code",
        "colab": {}
      },
      "source": [
        "import numpy as np\n",
        "import pandas as pd\n",
        "\n",
        "import tensorflow as tf\n",
        "from tensorflow import keras\n",
        "\n",
        "import numpy as np\n",
        "import matplotlib.pyplot as plt\n",
        "\n",
        "import time"
      ],
      "execution_count": 0,
      "outputs": []
    },
    {
      "cell_type": "code",
      "metadata": {
        "id": "OmBdLDqix7Jh",
        "colab_type": "code",
        "colab": {}
      },
      "source": [
        "def build_square_data(all_low, all_high, square_low, square_high, zero_count, one_count):\n",
        "\n",
        "  x1 = np.random.rand(one_count)\n",
        "  x1 = x1*(square_high-square_low) + square_low\n",
        "\n",
        "  x0 = np.random.rand(zero_count*100)\n",
        "  x0 = x0[ (x0<square_low) | (square_high<x0) ]\n",
        "  x0 = x0[:zero_count]\n",
        "\n",
        "  x = np.append(x1, x0)\n",
        "\n",
        "  plt.hist(x)\n",
        "  plt.xlim(0, 1)\n",
        "  plt.show()\n",
        "\n",
        "  # 범위 안의 것을 1, 범위 밖의 것을 0으로 하고\n",
        "  all_data = np.ones((len(x),2))\n",
        "  all_data[:,0] = x\n",
        "\n",
        "  all_data[:len(x1),1] = 1\n",
        "  all_data[len(x1):,1] = 0\n",
        "\n",
        "  # 섞는다\n",
        "  np.random.shuffle(all_data)\n",
        "\n",
        "  # x, y로 분리하고\n",
        "  x = all_data[:,0]\n",
        "  y = all_data[:,1]\n",
        "\n",
        "  plt.xlim(0, 1)\n",
        "\n",
        "  plt.scatter(x, y)\n",
        "\n",
        "  return x, y"
      ],
      "execution_count": 0,
      "outputs": []
    },
    {
      "cell_type": "markdown",
      "metadata": {
        "id": "HJ5rov-EyCN4",
        "colab_type": "text"
      },
      "source": [
        "# 네모 함수의 학습\n",
        "\n",
        "특정 영역은 1, 이외의 영역은 0을 출력\n",
        "\n",
        "1개의 출력 노드를 갖는다."
      ]
    },
    {
      "cell_type": "code",
      "metadata": {
        "id": "10wyiaaEx_Eo",
        "colab_type": "code",
        "colab": {
          "base_uri": "https://localhost:8080/",
          "height": 521
        },
        "outputId": "aae51a38-1cbf-401a-dc61-e3c173cb07d2"
      },
      "source": [
        "all_low = 0\n",
        "all_high = 1\n",
        "square_low = 0.5\n",
        "square_high = 0.6\n",
        "zero_count = 10000\n",
        "one_count = 10000\n",
        "\n",
        "train_x, train_y = build_square_data(all_low, all_high, square_low, square_high, zero_count, one_count)"
      ],
      "execution_count": 7,
      "outputs": [
        {
          "output_type": "display_data",
          "data": {
            "image/png": "[encoded data removed]",
            "text/plain": [
              "<Figure size 432x288 with 1 Axes>"
            ]
          },
          "metadata": {
            "tags": []
          }
        },
        {
          "output_type": "display_data",
          "data": {
            "image/png": "[encoded data removed]",
            "text/plain": [
              "<Figure size 432x288 with 1 Axes>"
            ]
          },
          "metadata": {
            "tags": []
          }
        }
      ]
    },
    {
      "cell_type": "code",
      "metadata": {
        "id": "K7fuP8OIyJBP",
        "colab_type": "code",
        "colab": {
          "base_uri": "https://localhost:8080/",
          "height": 1000
        },
        "outputId": "34f3af8a-93c2-416a-b268-7fd471875d65"
      },
      "source": [
        "from tensorflow import keras\n",
        "from tensorflow.keras import optimizers\n",
        "from tensorflow.keras.layers import Dense\n",
        "from tensorflow.keras.optimizers import SGD\n",
        "\n",
        "\n",
        "model = keras.Sequential()\n",
        "model.add(Dense(10, activation='relu', input_shape=(1,)))\n",
        "model.add(Dense(10, activation='relu'))\n",
        "model.add(Dense(10, activation='relu'))\n",
        "model.add(Dense(1))\n",
        "\n",
        "\n",
        "\n",
        "model.compile(optimizer=\"SGD\", loss=\"mse\")\n",
        "model = build_model()\n",
        "model.fit(train_x, train_y, epochs=100, verbose=1, batch_size=32, validation_split=0.1)\n",
        "\n",
        "x_ = np.arange(all_low, all_high, 0.01)\n",
        "y_ = model.predict(x_)\n",
        "plt.scatter(x_, y_)"
      ],
      "execution_count": 8,
      "outputs": [
        {
          "output_type": "stream",
          "text": [
            "Model: \"sequential_2\"\n",
            "_________________________________________________________________\n",
            "Layer (type)                 Output Shape              Param #   \n",
            "=================================================================\n",
            "dense_8 (Dense)              (None, 10)                20        \n",
            "_________________________________________________________________\n",
            "dense_9 (Dense)              (None, 10)                110       \n",
            "_________________________________________________________________\n",
            "dense_10 (Dense)             (None, 10)                110       \n",
            "_________________________________________________________________\n",
            "dense_11 (Dense)             (None, 1)                 11        \n",
            "=================================================================\n",
            "Total params: 251\n",
            "Trainable params: 251\n",
            "Non-trainable params: 0\n",
            "_________________________________________________________________\n",
            "Train on 18000 samples, validate on 2000 samples\n",
            "Epoch 1/100\n",
            "18000/18000 [==============================] - 1s 41us/sample - loss: 0.2462 - val_loss: 0.2403\n",
            "Epoch 2/100\n",
            "18000/18000 [==============================] - 1s 32us/sample - loss: 0.2290 - val_loss: 0.2226\n",
            "Epoch 3/100\n",
            "18000/18000 [==============================] - 1s 33us/sample - loss: 0.2038 - val_loss: 0.1879\n",
            "Epoch 4/100\n",
            "18000/18000 [==============================] - 1s 33us/sample - loss: 0.1674 - val_loss: 0.1459\n",
            "Epoch 5/100\n",
            "18000/18000 [==============================] - 1s 33us/sample - loss: 0.1214 - val_loss: 0.0957\n",
            "Epoch 6/100\n",
            "18000/18000 [==============================] - 1s 34us/sample - loss: 0.0794 - val_loss: 0.0633\n",
            "Epoch 7/100\n",
            "18000/18000 [==============================] - 1s 34us/sample - loss: 0.0575 - val_loss: 0.0481\n",
            "Epoch 8/100\n",
            "18000/18000 [==============================] - 1s 33us/sample - loss: 0.0459 - val_loss: 0.0398\n",
            "Epoch 9/100\n",
            "18000/18000 [==============================] - 1s 32us/sample - loss: 0.0384 - val_loss: 0.0343\n",
            "Epoch 10/100\n",
            "18000/18000 [==============================] - 1s 33us/sample - loss: 0.0332 - val_loss: 0.0300\n",
            "Epoch 11/100\n",
            "18000/18000 [==============================] - 1s 34us/sample - loss: 0.0293 - val_loss: 0.0270\n",
            "Epoch 12/100\n",
            "18000/18000 [==============================] - 1s 33us/sample - loss: 0.0264 - val_loss: 0.0245\n",
            "Epoch 13/100\n",
            "18000/18000 [==============================] - 1s 33us/sample - loss: 0.0243 - val_loss: 0.0225\n",
            "Epoch 14/100\n",
            "18000/18000 [==============================] - 1s 35us/sample - loss: 0.0227 - val_loss: 0.0225\n",
            "Epoch 15/100\n",
            "18000/18000 [==============================] - 1s 36us/sample - loss: 0.0214 - val_loss: 0.0204\n",
            "Epoch 16/100\n",
            "18000/18000 [==============================] - 1s 32us/sample - loss: 0.0206 - val_loss: 0.0195\n",
            "Epoch 17/100\n",
            "18000/18000 [==============================] - 1s 33us/sample - loss: 0.0198 - val_loss: 0.0196\n",
            "Epoch 18/100\n",
            "18000/18000 [==============================] - 1s 33us/sample - loss: 0.0193 - val_loss: 0.0185\n",
            "Epoch 19/100\n",
            "18000/18000 [==============================] - 1s 33us/sample - loss: 0.0186 - val_loss: 0.0185\n",
            "Epoch 20/100\n",
            "18000/18000 [==============================] - 1s 33us/sample - loss: 0.0182 - val_loss: 0.0194\n",
            "Epoch 21/100\n",
            "18000/18000 [==============================] - 1s 35us/sample - loss: 0.0177 - val_loss: 0.0170\n",
            "Epoch 22/100\n",
            "18000/18000 [==============================] - 1s 33us/sample - loss: 0.0173 - val_loss: 0.0165\n",
            "Epoch 23/100\n",
            "18000/18000 [==============================] - 1s 33us/sample - loss: 0.0168 - val_loss: 0.0158\n",
            "Epoch 24/100\n",
            "18000/18000 [==============================] - 1s 33us/sample - loss: 0.0163 - val_loss: 0.0159\n",
            "Epoch 25/100\n",
            "18000/18000 [==============================] - 1s 34us/sample - loss: 0.0157 - val_loss: 0.0149\n",
            "Epoch 26/100\n",
            "18000/18000 [==============================] - 1s 33us/sample - loss: 0.0152 - val_loss: 0.0144\n",
            "Epoch 27/100\n",
            "18000/18000 [==============================] - 1s 33us/sample - loss: 0.0146 - val_loss: 0.0144\n",
            "Epoch 28/100\n",
            "18000/18000 [==============================] - 1s 34us/sample - loss: 0.0142 - val_loss: 0.0131\n",
            "Epoch 29/100\n",
            "18000/18000 [==============================] - 1s 32us/sample - loss: 0.0137 - val_loss: 0.0129\n",
            "Epoch 30/100\n",
            "18000/18000 [==============================] - 1s 32us/sample - loss: 0.0131 - val_loss: 0.0123\n",
            "Epoch 31/100\n",
            "18000/18000 [==============================] - 1s 33us/sample - loss: 0.0126 - val_loss: 0.0119\n",
            "Epoch 32/100\n",
            "18000/18000 [==============================] - 1s 35us/sample - loss: 0.0121 - val_loss: 0.0113\n",
            "Epoch 33/100\n",
            "18000/18000 [==============================] - 1s 34us/sample - loss: 0.0117 - val_loss: 0.0110\n",
            "Epoch 34/100\n",
            "18000/18000 [==============================] - 1s 33us/sample - loss: 0.0115 - val_loss: 0.0111\n",
            "Epoch 35/100\n",
            "18000/18000 [==============================] - 1s 33us/sample - loss: 0.0112 - val_loss: 0.0102\n",
            "Epoch 36/100\n",
            "18000/18000 [==============================] - 1s 32us/sample - loss: 0.0109 - val_loss: 0.0101\n",
            "Epoch 37/100\n",
            "18000/18000 [==============================] - 1s 33us/sample - loss: 0.0105 - val_loss: 0.0096\n",
            "Epoch 38/100\n",
            "18000/18000 [==============================] - 1s 32us/sample - loss: 0.0104 - val_loss: 0.0099\n",
            "Epoch 39/100\n",
            "18000/18000 [==============================] - 1s 32us/sample - loss: 0.0101 - val_loss: 0.0092\n",
            "Epoch 40/100\n",
            "18000/18000 [==============================] - 1s 33us/sample - loss: 0.0098 - val_loss: 0.0091\n",
            "Epoch 41/100\n",
            "18000/18000 [==============================] - 1s 32us/sample - loss: 0.0097 - val_loss: 0.0168\n",
            "Epoch 42/100\n",
            "18000/18000 [==============================] - 1s 33us/sample - loss: 0.0095 - val_loss: 0.0087\n",
            "Epoch 43/100\n",
            "18000/18000 [==============================] - 1s 34us/sample - loss: 0.0093 - val_loss: 0.0084\n",
            "Epoch 44/100\n",
            "18000/18000 [==============================] - 1s 34us/sample - loss: 0.0090 - val_loss: 0.0082\n",
            "Epoch 45/100\n",
            "18000/18000 [==============================] - 1s 33us/sample - loss: 0.0091 - val_loss: 0.0081\n",
            "Epoch 46/100\n",
            "18000/18000 [==============================] - 1s 32us/sample - loss: 0.0088 - val_loss: 0.0138\n",
            "Epoch 47/100\n",
            "18000/18000 [==============================] - 1s 32us/sample - loss: 0.0086 - val_loss: 0.0081\n",
            "Epoch 48/100\n",
            "18000/18000 [==============================] - 1s 34us/sample - loss: 0.0085 - val_loss: 0.0077\n",
            "Epoch 49/100\n",
            "18000/18000 [==============================] - 1s 32us/sample - loss: 0.0085 - val_loss: 0.0073\n",
            "Epoch 50/100\n",
            "18000/18000 [==============================] - 1s 33us/sample - loss: 0.0082 - val_loss: 0.0079\n",
            "Epoch 51/100\n",
            "18000/18000 [==============================] - 1s 32us/sample - loss: 0.0081 - val_loss: 0.0096\n",
            "Epoch 52/100\n",
            "18000/18000 [==============================] - 1s 33us/sample - loss: 0.0080 - val_loss: 0.0088\n",
            "Epoch 53/100\n",
            "18000/18000 [==============================] - 1s 32us/sample - loss: 0.0079 - val_loss: 0.0070\n",
            "Epoch 54/100\n",
            "18000/18000 [==============================] - 1s 36us/sample - loss: 0.0078 - val_loss: 0.0068\n",
            "Epoch 55/100\n",
            "18000/18000 [==============================] - 1s 33us/sample - loss: 0.0077 - val_loss: 0.0085\n",
            "Epoch 56/100\n",
            "18000/18000 [==============================] - 1s 32us/sample - loss: 0.0076 - val_loss: 0.0065\n",
            "Epoch 57/100\n",
            "18000/18000 [==============================] - 1s 33us/sample - loss: 0.0075 - val_loss: 0.0067\n",
            "Epoch 58/100\n",
            "18000/18000 [==============================] - 1s 34us/sample - loss: 0.0075 - val_loss: 0.0067\n",
            "Epoch 59/100\n",
            "18000/18000 [==============================] - 1s 32us/sample - loss: 0.0073 - val_loss: 0.0063\n",
            "Epoch 60/100\n",
            "18000/18000 [==============================] - 1s 33us/sample - loss: 0.0072 - val_loss: 0.0107\n",
            "Epoch 61/100\n",
            "18000/18000 [==============================] - 1s 33us/sample - loss: 0.0070 - val_loss: 0.0072\n",
            "Epoch 62/100\n",
            "18000/18000 [==============================] - 1s 33us/sample - loss: 0.0071 - val_loss: 0.0071\n",
            "Epoch 63/100\n",
            "18000/18000 [==============================] - 1s 33us/sample - loss: 0.0071 - val_loss: 0.0060\n",
            "Epoch 64/100\n",
            "18000/18000 [==============================] - 1s 33us/sample - loss: 0.0069 - val_loss: 0.0065\n",
            "Epoch 65/100\n",
            "18000/18000 [==============================] - 1s 34us/sample - loss: 0.0068 - val_loss: 0.0059\n",
            "Epoch 66/100\n",
            "18000/18000 [==============================] - 1s 34us/sample - loss: 0.0067 - val_loss: 0.0059\n",
            "Epoch 67/100\n",
            "18000/18000 [==============================] - 1s 35us/sample - loss: 0.0067 - val_loss: 0.0057\n",
            "Epoch 68/100\n",
            "18000/18000 [==============================] - 1s 35us/sample - loss: 0.0066 - val_loss: 0.0063\n",
            "Epoch 69/100\n",
            "18000/18000 [==============================] - 1s 34us/sample - loss: 0.0066 - val_loss: 0.0054\n",
            "Epoch 70/100\n",
            "18000/18000 [==============================] - 1s 34us/sample - loss: 0.0065 - val_loss: 0.0053\n",
            "Epoch 71/100\n",
            "18000/18000 [==============================] - 1s 34us/sample - loss: 0.0064 - val_loss: 0.0163\n",
            "Epoch 72/100\n",
            "18000/18000 [==============================] - 1s 33us/sample - loss: 0.0065 - val_loss: 0.0064\n",
            "Epoch 73/100\n",
            "18000/18000 [==============================] - 1s 33us/sample - loss: 0.0063 - val_loss: 0.0102\n",
            "Epoch 74/100\n",
            "18000/18000 [==============================] - 1s 33us/sample - loss: 0.0064 - val_loss: 0.0052\n",
            "Epoch 75/100\n",
            "18000/18000 [==============================] - 1s 34us/sample - loss: 0.0063 - val_loss: 0.0071\n",
            "Epoch 76/100\n",
            "18000/18000 [==============================] - 1s 35us/sample - loss: 0.0061 - val_loss: 0.0111\n",
            "Epoch 77/100\n",
            "18000/18000 [==============================] - 1s 32us/sample - loss: 0.0062 - val_loss: 0.0049\n",
            "Epoch 78/100\n",
            "18000/18000 [==============================] - 1s 33us/sample - loss: 0.0061 - val_loss: 0.0052\n",
            "Epoch 79/100\n",
            "18000/18000 [==============================] - 1s 32us/sample - loss: 0.0061 - val_loss: 0.0051\n",
            "Epoch 80/100\n",
            "18000/18000 [==============================] - 1s 32us/sample - loss: 0.0060 - val_loss: 0.0053\n",
            "Epoch 81/100\n",
            "18000/18000 [==============================] - 1s 33us/sample - loss: 0.0060 - val_loss: 0.0060\n",
            "Epoch 82/100\n",
            "18000/18000 [==============================] - 1s 33us/sample - loss: 0.0059 - val_loss: 0.0116\n",
            "Epoch 83/100\n",
            "18000/18000 [==============================] - 1s 33us/sample - loss: 0.0061 - val_loss: 0.0048\n",
            "Epoch 84/100\n",
            "18000/18000 [==============================] - 1s 34us/sample - loss: 0.0058 - val_loss: 0.0046\n",
            "Epoch 85/100\n",
            "18000/18000 [==============================] - 1s 33us/sample - loss: 0.0059 - val_loss: 0.0095\n",
            "Epoch 86/100\n",
            "18000/18000 [==============================] - 1s 33us/sample - loss: 0.0057 - val_loss: 0.0049\n",
            "Epoch 87/100\n",
            "18000/18000 [==============================] - 1s 34us/sample - loss: 0.0058 - val_loss: 0.0046\n",
            "Epoch 88/100\n",
            "18000/18000 [==============================] - 1s 33us/sample - loss: 0.0057 - val_loss: 0.0045\n",
            "Epoch 89/100\n",
            "18000/18000 [==============================] - 1s 34us/sample - loss: 0.0057 - val_loss: 0.0044\n",
            "Epoch 90/100\n",
            "18000/18000 [==============================] - 1s 34us/sample - loss: 0.0056 - val_loss: 0.0044\n",
            "Epoch 91/100\n",
            "18000/18000 [==============================] - 1s 33us/sample - loss: 0.0056 - val_loss: 0.0047\n",
            "Epoch 92/100\n",
            "18000/18000 [==============================] - 1s 34us/sample - loss: 0.0058 - val_loss: 0.0045\n",
            "Epoch 93/100\n",
            "18000/18000 [==============================] - 1s 33us/sample - loss: 0.0056 - val_loss: 0.0077\n",
            "Epoch 94/100\n",
            "18000/18000 [==============================] - 1s 34us/sample - loss: 0.0054 - val_loss: 0.0047\n",
            "Epoch 95/100\n",
            "18000/18000 [==============================] - 1s 34us/sample - loss: 0.0055 - val_loss: 0.0043\n",
            "Epoch 96/100\n",
            "18000/18000 [==============================] - 1s 33us/sample - loss: 0.0055 - val_loss: 0.0042\n",
            "Epoch 97/100\n",
            "18000/18000 [==============================] - 1s 33us/sample - loss: 0.0056 - val_loss: 0.0043\n",
            "Epoch 98/100\n",
            "18000/18000 [==============================] - 1s 33us/sample - loss: 0.0053 - val_loss: 0.0041\n",
            "Epoch 99/100\n",
            "18000/18000 [==============================] - 1s 33us/sample - loss: 0.0052 - val_loss: 0.0066\n",
            "Epoch 100/100\n",
            "18000/18000 [==============================] - 1s 34us/sample - loss: 0.0053 - val_loss: 0.0225\n"
          ],
          "name": "stdout"
        },
        {
          "output_type": "execute_result",
          "data": {
            "text/plain": [
              "<matplotlib.collections.PathCollection at 0x7f71a5d9a550>"
            ]
          },
          "metadata": {
            "tags": []
          },
          "execution_count": 8
        },
        {
          "output_type": "display_data",
          "data": {
            "image/png": "[encoded data removed]",
            "text/plain": [
              "<Figure size 432x288 with 1 Axes>"
            ]
          },
          "metadata": {
            "tags": []
          }
        }
      ]
    },
    {
      "cell_type": "markdown",
      "metadata": {
        "id": "rKbC_Lnyyavy",
        "colab_type": "text"
      },
      "source": [
        "특정 패턴인 경우 1, 다른 경우인 경우 0으로 분류한다.\n",
        "\n",
        "출력된 값이 0.5보다 크면 1로, 0.5보다 작으면 0으로 간주한다."
      ]
    },
    {
      "cell_type": "markdown",
      "metadata": {
        "id": "xjdw0YWYzOzf",
        "colab_type": "text"
      },
      "source": [
        "# 클래스 2개, 출력노드 2개\n",
        "\n",
        "분류 카테고리의 개수 대로 출력노드를 갖고, one-hot-encoding된 값을 출력하면, 변별력이 커진다."
      ]
    },
    {
      "cell_type": "code",
      "metadata": {
        "id": "2LM2kPa60My1",
        "colab_type": "code",
        "colab": {
          "base_uri": "https://localhost:8080/",
          "height": 521
        },
        "outputId": "4ec48c69-9409-4a5f-c720-69d30cd39e6f"
      },
      "source": [
        "all_low = 0\n",
        "all_high = 1\n",
        "square_low = 0.5\n",
        "square_high = 0.6\n",
        "zero_count = 10000\n",
        "one_count = 10000\n",
        "\n",
        "train_x, train_y = build_square_data(all_low, all_high, square_low, square_high, zero_count, one_count)"
      ],
      "execution_count": 26,
      "outputs": [
        {
          "output_type": "display_data",
          "data": {
            "image/png": "[encoded data removed]",
            "text/plain": [
              "<Figure size 432x288 with 1 Axes>"
            ]
          },
          "metadata": {
            "tags": []
          }
        },
        {
          "output_type": "display_data",
          "data": {
            "image/png": "[encoded data removed]",
            "text/plain": [
              "<Figure size 432x288 with 1 Axes>"
            ]
          },
          "metadata": {
            "tags": []
          }
        }
      ]
    },
    {
      "cell_type": "code",
      "metadata": {
        "id": "PiFWYY4Z1B2D",
        "colab_type": "code",
        "colab": {}
      },
      "source": [
        "# ADD START\n",
        "reshaped_y = train_y.reshape((train_y.shape[0],1))\n",
        "train_y = np.append(reshaped_y, reshaped_y, axis=1)\n",
        "train_y[:,1] = 1-train_y[:,0]\n",
        "# ADD END"
      ],
      "execution_count": 0,
      "outputs": []
    },
    {
      "cell_type": "code",
      "metadata": {
        "id": "1yBDVshEyMxb",
        "colab_type": "code",
        "colab": {
          "base_uri": "https://localhost:8080/",
          "height": 1000
        },
        "outputId": "3240a046-5764-4f82-c9bb-c42dfb07a378"
      },
      "source": [
        "from tensorflow import keras\n",
        "from tensorflow.keras import optimizers\n",
        "from tensorflow.keras.layers import Dense\n",
        "from tensorflow.keras.optimizers import SGD\n",
        "\n",
        "\n",
        "model = keras.Sequential()\n",
        "model.add(Dense(10, activation='relu', input_shape=(1,)))\n",
        "model.add(Dense(10, activation='relu'))\n",
        "model.add(Dense(10, activation='relu'))\n",
        "# model.add(Dense(1))\n",
        "model.add(Dense(2))\n",
        "\n",
        "model.compile(optimizer=\"SGD\", loss=\"mse\")\n",
        "model.fit(train_x, train_y, epochs=100, verbose=1, batch_size=32, validation_split=0.1)\n",
        "\n",
        "x_ = np.arange(all_low, all_high, 0.01)\n",
        "y_ = model.predict(x_)\n",
        "plt.scatter(x_, y_[:,0])"
      ],
      "execution_count": 32,
      "outputs": [
        {
          "output_type": "stream",
          "text": [
            "Train on 18000 samples, validate on 2000 samples\n",
            "Epoch 1/100\n",
            "18000/18000 [==============================] - 1s 50us/sample - loss: 0.2551 - val_loss: 0.2466\n",
            "Epoch 2/100\n",
            "18000/18000 [==============================] - 1s 35us/sample - loss: 0.2430 - val_loss: 0.2389\n",
            "Epoch 3/100\n",
            "18000/18000 [==============================] - 1s 34us/sample - loss: 0.2261 - val_loss: 0.2118\n",
            "Epoch 4/100\n",
            "18000/18000 [==============================] - 1s 36us/sample - loss: 0.1948 - val_loss: 0.1705\n",
            "Epoch 5/100\n",
            "18000/18000 [==============================] - 1s 35us/sample - loss: 0.1432 - val_loss: 0.1106\n",
            "Epoch 6/100\n",
            "18000/18000 [==============================] - 1s 36us/sample - loss: 0.0931 - val_loss: 0.0761\n",
            "Epoch 7/100\n",
            "18000/18000 [==============================] - 1s 36us/sample - loss: 0.0739 - val_loss: 0.0671\n",
            "Epoch 8/100\n",
            "18000/18000 [==============================] - 1s 36us/sample - loss: 0.0631 - val_loss: 0.0553\n",
            "Epoch 9/100\n",
            "18000/18000 [==============================] - 1s 35us/sample - loss: 0.0558 - val_loss: 0.0507\n",
            "Epoch 10/100\n",
            "18000/18000 [==============================] - 1s 35us/sample - loss: 0.0520 - val_loss: 0.0494\n",
            "Epoch 11/100\n",
            "18000/18000 [==============================] - 1s 36us/sample - loss: 0.0492 - val_loss: 0.0451\n",
            "Epoch 12/100\n",
            "18000/18000 [==============================] - 1s 36us/sample - loss: 0.0468 - val_loss: 0.0435\n",
            "Epoch 13/100\n",
            "18000/18000 [==============================] - 1s 36us/sample - loss: 0.0446 - val_loss: 0.0407\n",
            "Epoch 14/100\n",
            "18000/18000 [==============================] - 1s 36us/sample - loss: 0.0426 - val_loss: 0.0388\n",
            "Epoch 15/100\n",
            "18000/18000 [==============================] - 1s 36us/sample - loss: 0.0407 - val_loss: 0.0374\n",
            "Epoch 16/100\n",
            "18000/18000 [==============================] - 1s 35us/sample - loss: 0.0389 - val_loss: 0.0355\n",
            "Epoch 17/100\n",
            "18000/18000 [==============================] - 1s 35us/sample - loss: 0.0372 - val_loss: 0.0339\n",
            "Epoch 18/100\n",
            "18000/18000 [==============================] - 1s 35us/sample - loss: 0.0355 - val_loss: 0.0323\n",
            "Epoch 19/100\n",
            "18000/18000 [==============================] - 1s 35us/sample - loss: 0.0338 - val_loss: 0.0307\n",
            "Epoch 20/100\n",
            "18000/18000 [==============================] - 1s 34us/sample - loss: 0.0321 - val_loss: 0.0297\n",
            "Epoch 21/100\n",
            "18000/18000 [==============================] - 1s 36us/sample - loss: 0.0306 - val_loss: 0.0279\n",
            "Epoch 22/100\n",
            "18000/18000 [==============================] - 1s 36us/sample - loss: 0.0290 - val_loss: 0.0262\n",
            "Epoch 23/100\n",
            "18000/18000 [==============================] - 1s 37us/sample - loss: 0.0275 - val_loss: 0.0249\n",
            "Epoch 24/100\n",
            "18000/18000 [==============================] - 1s 38us/sample - loss: 0.0261 - val_loss: 0.0236\n",
            "Epoch 25/100\n",
            "18000/18000 [==============================] - 1s 35us/sample - loss: 0.0246 - val_loss: 0.0227\n",
            "Epoch 26/100\n",
            "18000/18000 [==============================] - 1s 37us/sample - loss: 0.0234 - val_loss: 0.0212\n",
            "Epoch 27/100\n",
            "18000/18000 [==============================] - 1s 34us/sample - loss: 0.0222 - val_loss: 0.0203\n",
            "Epoch 28/100\n",
            "18000/18000 [==============================] - 1s 35us/sample - loss: 0.0211 - val_loss: 0.0192\n",
            "Epoch 29/100\n",
            "18000/18000 [==============================] - 1s 35us/sample - loss: 0.0201 - val_loss: 0.0182\n",
            "Epoch 30/100\n",
            "18000/18000 [==============================] - 1s 35us/sample - loss: 0.0192 - val_loss: 0.0181\n",
            "Epoch 31/100\n",
            "18000/18000 [==============================] - 1s 35us/sample - loss: 0.0184 - val_loss: 0.0175\n",
            "Epoch 32/100\n",
            "18000/18000 [==============================] - 1s 35us/sample - loss: 0.0176 - val_loss: 0.0165\n",
            "Epoch 33/100\n",
            "18000/18000 [==============================] - 1s 36us/sample - loss: 0.0170 - val_loss: 0.0155\n",
            "Epoch 34/100\n",
            "18000/18000 [==============================] - 1s 35us/sample - loss: 0.0163 - val_loss: 0.0155\n",
            "Epoch 35/100\n",
            "18000/18000 [==============================] - 1s 35us/sample - loss: 0.0157 - val_loss: 0.0150\n",
            "Epoch 36/100\n",
            "18000/18000 [==============================] - 1s 36us/sample - loss: 0.0152 - val_loss: 0.0153\n",
            "Epoch 37/100\n",
            "18000/18000 [==============================] - 1s 35us/sample - loss: 0.0147 - val_loss: 0.0143\n",
            "Epoch 38/100\n",
            "18000/18000 [==============================] - 1s 36us/sample - loss: 0.0143 - val_loss: 0.0136\n",
            "Epoch 39/100\n",
            "18000/18000 [==============================] - 1s 37us/sample - loss: 0.0138 - val_loss: 0.0129\n",
            "Epoch 40/100\n",
            "18000/18000 [==============================] - 1s 37us/sample - loss: 0.0134 - val_loss: 0.0129\n",
            "Epoch 41/100\n",
            "18000/18000 [==============================] - 1s 36us/sample - loss: 0.0131 - val_loss: 0.0121\n",
            "Epoch 42/100\n",
            "18000/18000 [==============================] - 1s 37us/sample - loss: 0.0127 - val_loss: 0.0121\n",
            "Epoch 43/100\n",
            "18000/18000 [==============================] - 1s 35us/sample - loss: 0.0124 - val_loss: 0.0117\n",
            "Epoch 44/100\n",
            "18000/18000 [==============================] - 1s 35us/sample - loss: 0.0120 - val_loss: 0.0113\n",
            "Epoch 45/100\n",
            "18000/18000 [==============================] - 1s 35us/sample - loss: 0.0118 - val_loss: 0.0121\n",
            "Epoch 46/100\n",
            "18000/18000 [==============================] - 1s 34us/sample - loss: 0.0115 - val_loss: 0.0109\n",
            "Epoch 47/100\n",
            "18000/18000 [==============================] - 1s 35us/sample - loss: 0.0112 - val_loss: 0.0105\n",
            "Epoch 48/100\n",
            "18000/18000 [==============================] - 1s 38us/sample - loss: 0.0109 - val_loss: 0.0107\n",
            "Epoch 49/100\n",
            "18000/18000 [==============================] - 1s 37us/sample - loss: 0.0108 - val_loss: 0.0101\n",
            "Epoch 50/100\n",
            "18000/18000 [==============================] - 1s 38us/sample - loss: 0.0106 - val_loss: 0.0102\n",
            "Epoch 51/100\n",
            "18000/18000 [==============================] - 1s 35us/sample - loss: 0.0104 - val_loss: 0.0098\n",
            "Epoch 52/100\n",
            "18000/18000 [==============================] - 1s 35us/sample - loss: 0.0102 - val_loss: 0.0097\n",
            "Epoch 53/100\n",
            "18000/18000 [==============================] - 1s 35us/sample - loss: 0.0099 - val_loss: 0.0094\n",
            "Epoch 54/100\n",
            "18000/18000 [==============================] - 1s 38us/sample - loss: 0.0098 - val_loss: 0.0094\n",
            "Epoch 55/100\n",
            "18000/18000 [==============================] - 1s 36us/sample - loss: 0.0097 - val_loss: 0.0091\n",
            "Epoch 56/100\n",
            "18000/18000 [==============================] - 1s 35us/sample - loss: 0.0095 - val_loss: 0.0095\n",
            "Epoch 57/100\n",
            "18000/18000 [==============================] - 1s 36us/sample - loss: 0.0093 - val_loss: 0.0095\n",
            "Epoch 58/100\n",
            "18000/18000 [==============================] - 1s 35us/sample - loss: 0.0092 - val_loss: 0.0087\n",
            "Epoch 59/100\n",
            "18000/18000 [==============================] - 1s 34us/sample - loss: 0.0090 - val_loss: 0.0088\n",
            "Epoch 60/100\n",
            "18000/18000 [==============================] - 1s 36us/sample - loss: 0.0090 - val_loss: 0.0085\n",
            "Epoch 61/100\n",
            "18000/18000 [==============================] - 1s 35us/sample - loss: 0.0088 - val_loss: 0.0086\n",
            "Epoch 62/100\n",
            "18000/18000 [==============================] - 1s 35us/sample - loss: 0.0088 - val_loss: 0.0089\n",
            "Epoch 63/100\n",
            "18000/18000 [==============================] - 1s 35us/sample - loss: 0.0086 - val_loss: 0.0080\n",
            "Epoch 64/100\n",
            "18000/18000 [==============================] - 1s 34us/sample - loss: 0.0085 - val_loss: 0.0089\n",
            "Epoch 65/100\n",
            "18000/18000 [==============================] - 1s 35us/sample - loss: 0.0084 - val_loss: 0.0090\n",
            "Epoch 66/100\n",
            "18000/18000 [==============================] - 1s 35us/sample - loss: 0.0083 - val_loss: 0.0077\n",
            "Epoch 67/100\n",
            "18000/18000 [==============================] - 1s 35us/sample - loss: 0.0081 - val_loss: 0.0081\n",
            "Epoch 68/100\n",
            "18000/18000 [==============================] - 1s 36us/sample - loss: 0.0081 - val_loss: 0.0080\n",
            "Epoch 69/100\n",
            "18000/18000 [==============================] - 1s 34us/sample - loss: 0.0080 - val_loss: 0.0079\n",
            "Epoch 70/100\n",
            "18000/18000 [==============================] - 1s 38us/sample - loss: 0.0078 - val_loss: 0.0073\n",
            "Epoch 71/100\n",
            "18000/18000 [==============================] - 1s 36us/sample - loss: 0.0078 - val_loss: 0.0075\n",
            "Epoch 72/100\n",
            "18000/18000 [==============================] - 1s 35us/sample - loss: 0.0077 - val_loss: 0.0104\n",
            "Epoch 73/100\n",
            "18000/18000 [==============================] - 1s 36us/sample - loss: 0.0077 - val_loss: 0.0082\n",
            "Epoch 74/100\n",
            "18000/18000 [==============================] - 1s 35us/sample - loss: 0.0075 - val_loss: 0.0071\n",
            "Epoch 75/100\n",
            "18000/18000 [==============================] - 1s 35us/sample - loss: 0.0074 - val_loss: 0.0069\n",
            "Epoch 76/100\n",
            "18000/18000 [==============================] - 1s 35us/sample - loss: 0.0074 - val_loss: 0.0086\n",
            "Epoch 77/100\n",
            "18000/18000 [==============================] - 1s 36us/sample - loss: 0.0073 - val_loss: 0.0072\n",
            "Epoch 78/100\n",
            "18000/18000 [==============================] - 1s 38us/sample - loss: 0.0073 - val_loss: 0.0069\n",
            "Epoch 79/100\n",
            "18000/18000 [==============================] - 1s 36us/sample - loss: 0.0072 - val_loss: 0.0080\n",
            "Epoch 80/100\n",
            "18000/18000 [==============================] - 1s 36us/sample - loss: 0.0072 - val_loss: 0.0076\n",
            "Epoch 81/100\n",
            "18000/18000 [==============================] - 1s 35us/sample - loss: 0.0070 - val_loss: 0.0068\n",
            "Epoch 82/100\n",
            "18000/18000 [==============================] - 1s 36us/sample - loss: 0.0070 - val_loss: 0.0065\n",
            "Epoch 83/100\n",
            "18000/18000 [==============================] - 1s 37us/sample - loss: 0.0070 - val_loss: 0.0066\n",
            "Epoch 84/100\n",
            "18000/18000 [==============================] - 1s 36us/sample - loss: 0.0068 - val_loss: 0.0074\n",
            "Epoch 85/100\n",
            "18000/18000 [==============================] - 1s 35us/sample - loss: 0.0067 - val_loss: 0.0066\n",
            "Epoch 86/100\n",
            "18000/18000 [==============================] - 1s 36us/sample - loss: 0.0068 - val_loss: 0.0077\n",
            "Epoch 87/100\n",
            "18000/18000 [==============================] - 1s 36us/sample - loss: 0.0067 - val_loss: 0.0065\n",
            "Epoch 88/100\n",
            "18000/18000 [==============================] - 1s 35us/sample - loss: 0.0067 - val_loss: 0.0105\n",
            "Epoch 89/100\n",
            "18000/18000 [==============================] - 1s 35us/sample - loss: 0.0065 - val_loss: 0.0080\n",
            "Epoch 90/100\n",
            "18000/18000 [==============================] - 1s 35us/sample - loss: 0.0066 - val_loss: 0.0063\n",
            "Epoch 91/100\n",
            "18000/18000 [==============================] - 1s 35us/sample - loss: 0.0064 - val_loss: 0.0070\n",
            "Epoch 92/100\n",
            "18000/18000 [==============================] - 1s 35us/sample - loss: 0.0063 - val_loss: 0.0063\n",
            "Epoch 93/100\n",
            "18000/18000 [==============================] - 1s 35us/sample - loss: 0.0063 - val_loss: 0.0059\n",
            "Epoch 94/100\n",
            "18000/18000 [==============================] - 1s 35us/sample - loss: 0.0062 - val_loss: 0.0086\n",
            "Epoch 95/100\n",
            "18000/18000 [==============================] - 1s 35us/sample - loss: 0.0062 - val_loss: 0.0059\n",
            "Epoch 96/100\n",
            "18000/18000 [==============================] - 1s 35us/sample - loss: 0.0061 - val_loss: 0.0058\n",
            "Epoch 97/100\n",
            "18000/18000 [==============================] - 1s 34us/sample - loss: 0.0061 - val_loss: 0.0062\n",
            "Epoch 98/100\n",
            "18000/18000 [==============================] - 1s 35us/sample - loss: 0.0062 - val_loss: 0.0073\n",
            "Epoch 99/100\n",
            "18000/18000 [==============================] - 1s 36us/sample - loss: 0.0060 - val_loss: 0.0064\n",
            "Epoch 100/100\n",
            "18000/18000 [==============================] - 1s 36us/sample - loss: 0.0060 - val_loss: 0.0078\n"
          ],
          "name": "stdout"
        },
        {
          "output_type": "execute_result",
          "data": {
            "text/plain": [
              "<matplotlib.collections.PathCollection at 0x7f71a573b6a0>"
            ]
          },
          "metadata": {
            "tags": []
          },
          "execution_count": 32
        },
        {
          "output_type": "display_data",
          "data": {
            "image/png": "[encoded data removed]",
            "text/plain": [
              "<Figure size 432x288 with 1 Axes>"
            ]
          },
          "metadata": {
            "tags": []
          }
        }
      ]
    },
    {
      "cell_type": "markdown",
      "metadata": {
        "id": "KzTg8ocJ11NI",
        "colab_type": "text"
      },
      "source": [
        "출력 노드의 값은 0과 1이 서로 상반된다.\n",
        "\n",
        "하지만 이렇게 카테고리 개수 만큼 출력 노드가 있는 경우, 카테고리를 2개 이상으로 해도 처리가 가능해 진다."
      ]
    },
    {
      "cell_type": "code",
      "metadata": {
        "id": "s5MGpN31104d",
        "colab_type": "code",
        "colab": {}
      },
      "source": [
        ""
      ],
      "execution_count": 0,
      "outputs": []
    },
    {
      "cell_type": "code",
      "metadata": {
        "id": "AxWMUkV_0ovc",
        "colab_type": "code",
        "colab": {}
      },
      "source": [
        ""
      ],
      "execution_count": 0,
      "outputs": []
    }
  ]
}